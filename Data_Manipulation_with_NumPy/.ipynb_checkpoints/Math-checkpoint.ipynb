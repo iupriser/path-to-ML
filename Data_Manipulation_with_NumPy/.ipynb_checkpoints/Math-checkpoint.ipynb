{
 "cells": [
  {
   "cell_type": "code",
   "execution_count": 2,
   "metadata": {},
   "outputs": [],
   "source": [
    "import numpy as np"
   ]
  },
  {
   "cell_type": "code",
   "execution_count": 3,
   "metadata": {},
   "outputs": [
    {
     "name": "stdout",
     "output_type": "stream",
     "text": [
      "array([[2, 3],\n",
      "       [4, 5]])\n",
      "array([[-0.2,  0.8],\n",
      "       [ 1.8,  2.8]])\n",
      "array([[2, 4],\n",
      "       [6, 8]])\n",
      "array([[0.5, 1. ],\n",
      "       [1.5, 2. ]])\n",
      "array([[0, 1],\n",
      "       [1, 2]])\n",
      "array([[ 1,  4],\n",
      "       [ 9, 16]])\n",
      "array([[1.        , 1.41421356],\n",
      "       [1.73205081, 2.        ]])\n"
     ]
    }
   ],
   "source": [
    "# Arithematic\n",
    "\n",
    "arr = np.array([[1, 2], [3, 4]])\n",
    "\n",
    "# Add 1 to element values\n",
    "print(repr(arr + 1))\n",
    "\n",
    "# Subtract element values by 1.2\n",
    "print(repr(arr - 1.2))\n",
    "\n",
    "# Double element values\n",
    "print(repr(arr * 2))\n",
    "\n",
    "# Halve element values\n",
    "print(repr(arr / 2))\n",
    "\n",
    "# Integer division (half)\n",
    "print(repr(arr // 2))\n",
    "\n",
    "# Square element values\n",
    "print(repr(arr**2))\n",
    "\n",
    "# Square root element values\n",
    "print(repr(arr**0.5))"
   ]
  },
  {
   "cell_type": "code",
   "execution_count": 4,
   "metadata": {},
   "outputs": [
    {
     "name": "stdout",
     "output_type": "stream",
     "text": [
      "Celsius: array([  0., -20., -10., -40.])\n"
     ]
    }
   ],
   "source": [
    "# farenheit to celsius\n",
    "\n",
    "def f2c(temps):\n",
    "  return (5/9)*(temps-32)\n",
    "\n",
    "fahrenheits = np.array([32, -4, 14, -40])\n",
    "celsius = f2c(fahrenheits)\n",
    "print('Celsius: {}'.format(repr(celsius)))"
   ]
  },
  {
   "cell_type": "code",
   "execution_count": 5,
   "metadata": {},
   "outputs": [
    {
     "name": "stdout",
     "output_type": "stream",
     "text": [
      "array([[ 2.71828183,  7.3890561 ],\n",
      "       [20.08553692, 54.59815003]])\n",
      "array([[ 2.,  4.],\n",
      "       [ 8., 16.]])\n",
      "array([[0.        , 2.30258509],\n",
      "       [1.        , 1.14472989]])\n",
      "array([[0.        , 1.        ],\n",
      "       [0.43429448, 0.49714987]])\n"
     ]
    }
   ],
   "source": [
    "# Non-linear Function (exponentials and logarithms)\n",
    "\n",
    "arr = np.array([[1, 2], [3, 4]])\n",
    "# Raised to power of e\n",
    "print(repr(np.exp(arr)))\n",
    "# Raised to power of 2\n",
    "print(repr(np.exp2(arr)))\n",
    "\n",
    "arr2 = np.array([[1, 10], [np.e, np.pi]])\n",
    "# Natural logarithm\n",
    "print(repr(np.log(arr2)))\n",
    "# Base 10 logarithm\n",
    "print(repr(np.log10(arr2)))"
   ]
  },
  {
   "cell_type": "markdown",
   "metadata": {},
   "source": [
    "The function np.exp performs a base e exponential on an array, while the function np.exp2 performs a base 2 exponential. Likewise, np.log, np.log2, and np.log10 all perform logarithms on an input array, using base e, base 2, and base 10, respectively."
   ]
  },
  {
   "cell_type": "code",
   "execution_count": 6,
   "metadata": {},
   "outputs": [
    {
     "name": "stdout",
     "output_type": "stream",
     "text": [
      "array([[ 3,  9],\n",
      "       [27, 81]])\n",
      "array([[ 10.2,  16. ],\n",
      "       [ 27. , 625. ]])\n"
     ]
    }
   ],
   "source": [
    "arr = np.array([[1, 2], [3, 4]])\n",
    "# Raise 3 to power of each number in arr\n",
    "print(repr(np.power(3, arr)))\n",
    "arr2 = np.array([[10.2, 4], [3, 5]])\n",
    "# Raise arr2 to power of each number in arr\n",
    "print(repr(np.power(arr2, arr)))"
   ]
  },
  {
   "cell_type": "code",
   "execution_count": null,
   "metadata": {},
   "outputs": [],
   "source": []
  }
 ],
 "metadata": {
  "kernelspec": {
   "display_name": "Python 3",
   "language": "python",
   "name": "python3"
  },
  "language_info": {
   "codemirror_mode": {
    "name": "ipython",
    "version": 3
   },
   "file_extension": ".py",
   "mimetype": "text/x-python",
   "name": "python",
   "nbconvert_exporter": "python",
   "pygments_lexer": "ipython3",
   "version": "3.7.7"
  }
 },
 "nbformat": 4,
 "nbformat_minor": 4
}
